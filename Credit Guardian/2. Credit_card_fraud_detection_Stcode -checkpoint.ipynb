{
 "cells": [
  {
   "cell_type": "markdown",
   "metadata": {},
   "source": [
    "## Credit Card Fraud Detection\n",
    "\n",
    "In this project we will predict fraudulent credit card transactions with the help of Machine learning models. Please import the following libraries to get started."
   ]
  },
  {
   "cell_type": "code",
   "execution_count": 1,
   "metadata": {},
   "outputs": [],
   "source": [
    "import numpy as np\n",
    "import pandas as pd\n",
    "\n",
    "import matplotlib.pyplot as plt\n",
    "%matplotlib inline\n",
    "import seaborn as sns\n",
    "\n",
    "from sklearn import metrics\n",
    "from sklearn import preprocessing"
   ]
  },
  {
   "cell_type": "markdown",
   "metadata": {},
   "source": [
    "## Exploratory data analysis"
   ]
  },
  {
   "cell_type": "code",
   "execution_count": 2,
   "metadata": {},
   "outputs": [
    {
     "data": {
      "text/html": [
       "<div>\n",
       "<style scoped>\n",
       "    .dataframe tbody tr th:only-of-type {\n",
       "        vertical-align: middle;\n",
       "    }\n",
       "\n",
       "    .dataframe tbody tr th {\n",
       "        vertical-align: top;\n",
       "    }\n",
       "\n",
       "    .dataframe thead th {\n",
       "        text-align: right;\n",
       "    }\n",
       "</style>\n",
       "<table border=\"1\" class=\"dataframe\">\n",
       "  <thead>\n",
       "    <tr style=\"text-align: right;\">\n",
       "      <th></th>\n",
       "      <th>Time</th>\n",
       "      <th>V1</th>\n",
       "      <th>V2</th>\n",
       "      <th>V3</th>\n",
       "      <th>V4</th>\n",
       "      <th>V5</th>\n",
       "      <th>V6</th>\n",
       "      <th>V7</th>\n",
       "      <th>V8</th>\n",
       "      <th>V9</th>\n",
       "      <th>...</th>\n",
       "      <th>V21</th>\n",
       "      <th>V22</th>\n",
       "      <th>V23</th>\n",
       "      <th>V24</th>\n",
       "      <th>V25</th>\n",
       "      <th>V26</th>\n",
       "      <th>V27</th>\n",
       "      <th>V28</th>\n",
       "      <th>Amount</th>\n",
       "      <th>Class</th>\n",
       "    </tr>\n",
       "  </thead>\n",
       "  <tbody>\n",
       "    <tr>\n",
       "      <th>0</th>\n",
       "      <td>0.0</td>\n",
       "      <td>-1.359807</td>\n",
       "      <td>-0.072781</td>\n",
       "      <td>2.536347</td>\n",
       "      <td>1.378155</td>\n",
       "      <td>-0.338321</td>\n",
       "      <td>0.462388</td>\n",
       "      <td>0.239599</td>\n",
       "      <td>0.098698</td>\n",
       "      <td>0.363787</td>\n",
       "      <td>...</td>\n",
       "      <td>-0.018307</td>\n",
       "      <td>0.277838</td>\n",
       "      <td>-0.110474</td>\n",
       "      <td>0.066928</td>\n",
       "      <td>0.128539</td>\n",
       "      <td>-0.189115</td>\n",
       "      <td>0.133558</td>\n",
       "      <td>-0.021053</td>\n",
       "      <td>149.62</td>\n",
       "      <td>0</td>\n",
       "    </tr>\n",
       "    <tr>\n",
       "      <th>1</th>\n",
       "      <td>0.0</td>\n",
       "      <td>1.191857</td>\n",
       "      <td>0.266151</td>\n",
       "      <td>0.166480</td>\n",
       "      <td>0.448154</td>\n",
       "      <td>0.060018</td>\n",
       "      <td>-0.082361</td>\n",
       "      <td>-0.078803</td>\n",
       "      <td>0.085102</td>\n",
       "      <td>-0.255425</td>\n",
       "      <td>...</td>\n",
       "      <td>-0.225775</td>\n",
       "      <td>-0.638672</td>\n",
       "      <td>0.101288</td>\n",
       "      <td>-0.339846</td>\n",
       "      <td>0.167170</td>\n",
       "      <td>0.125895</td>\n",
       "      <td>-0.008983</td>\n",
       "      <td>0.014724</td>\n",
       "      <td>2.69</td>\n",
       "      <td>0</td>\n",
       "    </tr>\n",
       "    <tr>\n",
       "      <th>2</th>\n",
       "      <td>1.0</td>\n",
       "      <td>-1.358354</td>\n",
       "      <td>-1.340163</td>\n",
       "      <td>1.773209</td>\n",
       "      <td>0.379780</td>\n",
       "      <td>-0.503198</td>\n",
       "      <td>1.800499</td>\n",
       "      <td>0.791461</td>\n",
       "      <td>0.247676</td>\n",
       "      <td>-1.514654</td>\n",
       "      <td>...</td>\n",
       "      <td>0.247998</td>\n",
       "      <td>0.771679</td>\n",
       "      <td>0.909412</td>\n",
       "      <td>-0.689281</td>\n",
       "      <td>-0.327642</td>\n",
       "      <td>-0.139097</td>\n",
       "      <td>-0.055353</td>\n",
       "      <td>-0.059752</td>\n",
       "      <td>378.66</td>\n",
       "      <td>0</td>\n",
       "    </tr>\n",
       "    <tr>\n",
       "      <th>3</th>\n",
       "      <td>1.0</td>\n",
       "      <td>-0.966272</td>\n",
       "      <td>-0.185226</td>\n",
       "      <td>1.792993</td>\n",
       "      <td>-0.863291</td>\n",
       "      <td>-0.010309</td>\n",
       "      <td>1.247203</td>\n",
       "      <td>0.237609</td>\n",
       "      <td>0.377436</td>\n",
       "      <td>-1.387024</td>\n",
       "      <td>...</td>\n",
       "      <td>-0.108300</td>\n",
       "      <td>0.005274</td>\n",
       "      <td>-0.190321</td>\n",
       "      <td>-1.175575</td>\n",
       "      <td>0.647376</td>\n",
       "      <td>-0.221929</td>\n",
       "      <td>0.062723</td>\n",
       "      <td>0.061458</td>\n",
       "      <td>123.50</td>\n",
       "      <td>0</td>\n",
       "    </tr>\n",
       "    <tr>\n",
       "      <th>4</th>\n",
       "      <td>2.0</td>\n",
       "      <td>-1.158233</td>\n",
       "      <td>0.877737</td>\n",
       "      <td>1.548718</td>\n",
       "      <td>0.403034</td>\n",
       "      <td>-0.407193</td>\n",
       "      <td>0.095921</td>\n",
       "      <td>0.592941</td>\n",
       "      <td>-0.270533</td>\n",
       "      <td>0.817739</td>\n",
       "      <td>...</td>\n",
       "      <td>-0.009431</td>\n",
       "      <td>0.798278</td>\n",
       "      <td>-0.137458</td>\n",
       "      <td>0.141267</td>\n",
       "      <td>-0.206010</td>\n",
       "      <td>0.502292</td>\n",
       "      <td>0.219422</td>\n",
       "      <td>0.215153</td>\n",
       "      <td>69.99</td>\n",
       "      <td>0</td>\n",
       "    </tr>\n",
       "  </tbody>\n",
       "</table>\n",
       "<p>5 rows × 31 columns</p>\n",
       "</div>"
      ],
      "text/plain": [
       "   Time        V1        V2        V3        V4        V5        V6        V7  \\\n",
       "0   0.0 -1.359807 -0.072781  2.536347  1.378155 -0.338321  0.462388  0.239599   \n",
       "1   0.0  1.191857  0.266151  0.166480  0.448154  0.060018 -0.082361 -0.078803   \n",
       "2   1.0 -1.358354 -1.340163  1.773209  0.379780 -0.503198  1.800499  0.791461   \n",
       "3   1.0 -0.966272 -0.185226  1.792993 -0.863291 -0.010309  1.247203  0.237609   \n",
       "4   2.0 -1.158233  0.877737  1.548718  0.403034 -0.407193  0.095921  0.592941   \n",
       "\n",
       "         V8        V9  ...       V21       V22       V23       V24       V25  \\\n",
       "0  0.098698  0.363787  ... -0.018307  0.277838 -0.110474  0.066928  0.128539   \n",
       "1  0.085102 -0.255425  ... -0.225775 -0.638672  0.101288 -0.339846  0.167170   \n",
       "2  0.247676 -1.514654  ...  0.247998  0.771679  0.909412 -0.689281 -0.327642   \n",
       "3  0.377436 -1.387024  ... -0.108300  0.005274 -0.190321 -1.175575  0.647376   \n",
       "4 -0.270533  0.817739  ... -0.009431  0.798278 -0.137458  0.141267 -0.206010   \n",
       "\n",
       "        V26       V27       V28  Amount  Class  \n",
       "0 -0.189115  0.133558 -0.021053  149.62      0  \n",
       "1  0.125895 -0.008983  0.014724    2.69      0  \n",
       "2 -0.139097 -0.055353 -0.059752  378.66      0  \n",
       "3 -0.221929  0.062723  0.061458  123.50      0  \n",
       "4  0.502292  0.219422  0.215153   69.99      0  \n",
       "\n",
       "[5 rows x 31 columns]"
      ]
     },
     "execution_count": 2,
     "metadata": {},
     "output_type": "execute_result"
    }
   ],
   "source": [
    "df = pd.read_csv('creditcard.csv')\n",
    "df.head()"
   ]
  },
  {
   "cell_type": "code",
   "execution_count": 3,
   "metadata": {},
   "outputs": [
    {
     "name": "stdout",
     "output_type": "stream",
     "text": [
      "<class 'pandas.core.frame.DataFrame'>\n",
      "RangeIndex: 284807 entries, 0 to 284806\n",
      "Data columns (total 31 columns):\n",
      " #   Column  Non-Null Count   Dtype  \n",
      "---  ------  --------------   -----  \n",
      " 0   Time    284807 non-null  float64\n",
      " 1   V1      284807 non-null  float64\n",
      " 2   V2      284807 non-null  float64\n",
      " 3   V3      284807 non-null  float64\n",
      " 4   V4      284807 non-null  float64\n",
      " 5   V5      284807 non-null  float64\n",
      " 6   V6      284807 non-null  float64\n",
      " 7   V7      284807 non-null  float64\n",
      " 8   V8      284807 non-null  float64\n",
      " 9   V9      284807 non-null  float64\n",
      " 10  V10     284807 non-null  float64\n",
      " 11  V11     284807 non-null  float64\n",
      " 12  V12     284807 non-null  float64\n",
      " 13  V13     284807 non-null  float64\n",
      " 14  V14     284807 non-null  float64\n",
      " 15  V15     284807 non-null  float64\n",
      " 16  V16     284807 non-null  float64\n",
      " 17  V17     284807 non-null  float64\n",
      " 18  V18     284807 non-null  float64\n",
      " 19  V19     284807 non-null  float64\n",
      " 20  V20     284807 non-null  float64\n",
      " 21  V21     284807 non-null  float64\n",
      " 22  V22     284807 non-null  float64\n",
      " 23  V23     284807 non-null  float64\n",
      " 24  V24     284807 non-null  float64\n",
      " 25  V25     284807 non-null  float64\n",
      " 26  V26     284807 non-null  float64\n",
      " 27  V27     284807 non-null  float64\n",
      " 28  V28     284807 non-null  float64\n",
      " 29  Amount  284807 non-null  float64\n",
      " 30  Class   284807 non-null  int64  \n",
      "dtypes: float64(30), int64(1)\n",
      "memory usage: 67.4 MB\n"
     ]
    }
   ],
   "source": [
    "#observe the different feature type present in the data\n",
    "\n",
    "df.info()"
   ]
  },
  {
   "cell_type": "markdown",
   "metadata": {},
   "source": [
    "Here we will observe the distribution of our classes"
   ]
  },
  {
   "cell_type": "code",
   "execution_count": 4,
   "metadata": {},
   "outputs": [],
   "source": [
    "classes=df['Class'].value_counts()\n",
    "normal_share=classes[0]/df['Class'].count()*100\n",
    "fraud_share=classes[1]/df['Class'].count()*100"
   ]
  },
  {
   "cell_type": "code",
   "execution_count": 5,
   "metadata": {},
   "outputs": [
    {
     "data": {
      "image/png": "[encoded data removed]",
      "text/plain": [
       "<Figure size 576x432 with 1 Axes>"
      ]
     },
     "metadata": {
      "needs_background": "light"
     },
     "output_type": "display_data"
    },
    {
     "data": {
      "image/png": "[encoded data removed]",
      "text/plain": [
       "<Figure size 576x432 with 1 Axes>"
      ]
     },
     "metadata": {
      "needs_background": "light"
     },
     "output_type": "display_data"
    },
    {
     "name": "stdout",
     "output_type": "stream",
     "text": [
      "Percentage of Non-Fraudulent Transactions: 99.83%\n",
      "Percentage of Fraudulent Transactions: 0.17%\n"
     ]
    }
   ],
   "source": [
    "# Create a bar plot for the number and percentage of fraudulent vs non-fraudulent transcations\n",
    "\n",
    "plt.figure(figsize=(8, 6))\n",
    "sns.countplot(x='Class', data=df)\n",
    "plt.title('Number of Fraudulent vs Non-Fraudulent Transactions')\n",
    "plt.xlabel('Class (0: Non-Fraudulent, 1: Fraudulent)')\n",
    "plt.ylabel('Count')\n",
    "plt.show()\n",
    "\n",
    "# Calculate the percentage of fraudulent and non-fraudulent transactions\n",
    "fraud_percentage = df['Class'].value_counts(normalize=True) * 100\n",
    "\n",
    "# Create a bar plot for the percentage of fraudulent vs non-fraudulent transactions\n",
    "plt.figure(figsize=(8, 6))\n",
    "sns.barplot(x=fraud_percentage.index, y=fraud_percentage.values)\n",
    "plt.title('Percentage of Fraudulent vs Non-Fraudulent Transactions')\n",
    "plt.xlabel('Class (0: Non-Fraudulent, 1: Fraudulent)')\n",
    "plt.ylabel('Percentage')\n",
    "plt.show()\n",
    "\n",
    "# Print the percentage values\n",
    "print(\"Percentage of Non-Fraudulent Transactions: {:.2f}%\".format(fraud_percentage[0]))\n",
    "print(\"Percentage of Fraudulent Transactions: {:.2f}%\".format(fraud_percentage[1]))\n"
   ]
  },
  {
   "cell_type": "code",
   "execution_count": 6,
   "metadata": {},
   "outputs": [
    {
     "data": {
      "image/png": "[encoded data removed]",
      "text/plain": [
       "<Figure size 720x432 with 1 Axes>"
      ]
     },
     "metadata": {
      "needs_background": "light"
     },
     "output_type": "display_data"
    }
   ],
   "source": [
    "# Create a scatter plot to observe the distribution of classes with time\n",
    "\n",
    "plt.figure(figsize=(10, 6))\n",
    "plt.scatter(df['Time'][df['Class'] == 0], df['Class'][df['Class'] == 0], label='Non-Fraudulent', alpha=0.5, marker='o')\n",
    "plt.scatter(df['Time'][df['Class'] == 1], df['Class'][df['Class'] == 1], label='Fraudulent', alpha=0.5, marker='x')\n",
    "plt.title('Scatter Plot of Classes with Time')\n",
    "plt.xlabel('Time')\n",
    "plt.ylabel('Class (0: Non-Fraudulent, 1: Fraudulent)')\n",
    "plt.legend()\n",
    "plt.show()\n"
   ]
  },
  {
   "cell_type": "code",
   "execution_count": 7,
   "metadata": {},
   "outputs": [
    {
     "data": {
      "image/png": "[encoded data removed]",
      "text/plain": [
       "<Figure size 720x432 with 1 Axes>"
      ]
     },
     "metadata": {
      "needs_background": "light"
     },
     "output_type": "display_data"
    }
   ],
   "source": [
    "# Create a scatter plot to observe the distribution of classes with Amount\n",
    "\n",
    "plt.figure(figsize=(10, 6))\n",
    "plt.scatter(df['Amount'][df['Class'] == 0], df['Class'][df['Class'] == 0], label='Non-Fraudulent', alpha=0.5, marker='o')\n",
    "plt.scatter(df['Amount'][df['Class'] == 1], df['Class'][df['Class'] == 1], label='Fraudulent', alpha=0.5, marker='x')\n",
    "plt.title('Scatter Plot of Classes with Amount')\n",
    "plt.xlabel('Amount')\n",
    "plt.ylabel('Class (0: Non-Fraudulent, 1: Fraudulent)')\n",
    "plt.legend()\n",
    "plt.show()\n"
   ]
  },
  {
   "cell_type": "code",
   "execution_count": 8,
   "metadata": {},
   "outputs": [],
   "source": [
    "# Drop unnecessary columns\n",
    "\n",
    "# Drop the 'Time' and 'Class' columns\n",
    "df = df.drop(columns=['Time']) \n"
   ]
  },
  {
   "cell_type": "markdown",
   "metadata": {},
   "source": [
    "### Splitting the data into train & test data"
   ]
  },
  {
   "cell_type": "code",
   "execution_count": 9,
   "metadata": {},
   "outputs": [],
   "source": [
    "# Assign the 'Class' column to the variable y\n",
    "y = df['Class']"
   ]
  },
  {
   "cell_type": "code",
   "execution_count": 10,
   "metadata": {},
   "outputs": [
    {
     "name": "stdout",
     "output_type": "stream",
     "text": [
      "Number of samples in training set: 227845\n",
      "Number of samples in testing set: 56962\n"
     ]
    }
   ],
   "source": [
    "from sklearn.model_selection import train_test_split\n",
    "\n",
    "# Assuming you have a DataFrame df containing your data\n",
    "\n",
    "# Drop the 'Class' column from the features (X) since it's the target variable\n",
    "X = df.drop('Class', axis=1)\n",
    "\n",
    "# Split the data into training and testing sets\n",
    "X_train, X_test, y_train, y_test = train_test_split(X, y, test_size=0.2, random_state=42)\n",
    "\n",
    "# Print the number of samples in each set\n",
    "print(f\"Number of samples in training set: {len(X_train)}\")\n",
    "print(f\"Number of samples in testing set: {len(X_test)}\")\n"
   ]
  },
  {
   "cell_type": "markdown",
   "metadata": {},
   "source": [
    "##### Preserve X_test & y_test to evaluate on the test data once you build the model"
   ]
  },
  {
   "cell_type": "code",
   "execution_count": 11,
   "metadata": {},
   "outputs": [
    {
     "name": "stdout",
     "output_type": "stream",
     "text": [
      "492\n",
      "394\n",
      "98\n"
     ]
    }
   ],
   "source": [
    "print(np.sum(y))\n",
    "print(np.sum(y_train))\n",
    "print(np.sum(y_test))"
   ]
  },
  {
   "cell_type": "markdown",
   "metadata": {},
   "source": [
    "### Plotting the distribution of a variable"
   ]
  },
  {
   "cell_type": "code",
   "execution_count": 12,
   "metadata": {},
   "outputs": [
    {
     "data": {
      "image/png": "[encoded data removed]",
      "text/plain": [
       "<Figure size 576x432 with 1 Axes>"
      ]
     },
     "metadata": {
      "needs_background": "light"
     },
     "output_type": "display_data"
    }
   ],
   "source": [
    "# plot the histogram of a variable from the dataset to see the skewness\n",
    "\n",
    "feature = 'V1'\n",
    "plt.figure(figsize=(8, 6))\n",
    "plt.hist(df[feature], bins=50, color='blue', edgecolor='black', alpha=0.7)\n",
    "plt.title(f'Histogram of {feature}')\n",
    "plt.xlabel(feature)\n",
    "plt.ylabel('Frequency')\n",
    "plt.show()"
   ]
  },
  {
   "cell_type": "markdown",
   "metadata": {},
   "source": [
    "### If there is skewness present in the distribution use:\n",
    "- <b>Power Transformer</b> package present in the <b>preprocessing library provided by sklearn</b> to make distribution more gaussian"
   ]
  },
  {
   "cell_type": "code",
   "execution_count": 13,
   "metadata": {},
   "outputs": [],
   "source": [
    "from sklearn.preprocessing import PowerTransformer\n",
    "\n",
    "# Assuming 'feature' is the variable you want to transform\n",
    "feature = 'V1'  # Replace 'V1' with the actual column name\n",
    "\n",
    "# Create PowerTransformer instance\n",
    "power_transformer = PowerTransformer(copy=False)\n",
    "\n",
    "# Fit and transform the train data\n",
    "X_train[feature] = power_transformer.fit_transform(X_train[[feature]])\n",
    "\n",
    "# Transform the test data (using the parameters learned from the training data)\n",
    "X_test[feature] = power_transformer.transform(X_test[[feature]])\n"
   ]
  },
  {
   "cell_type": "code",
   "execution_count": 14,
   "metadata": {},
   "outputs": [
    {
     "data": {
      "image/png": "[encoded data removed]",
      "text/plain": [
       "<Figure size 576x432 with 1 Axes>"
      ]
     },
     "metadata": {
      "needs_background": "light"
     },
     "output_type": "display_data"
    },
    {
     "data": {
      "image/png": "[encoded data removed]",
      "text/plain": [
       "<Figure size 576x432 with 1 Axes>"
      ]
     },
     "metadata": {
      "needs_background": "light"
     },
     "output_type": "display_data"
    }
   ],
   "source": [
    "# Plot the histogram before transformation\n",
    "plt.figure(figsize=(8, 6))\n",
    "plt.hist(X_train[feature], bins=30, color='blue', alpha=0.5, label='Before Transformation')\n",
    "plt.title(f'Histogram of {feature} Before Transformation')\n",
    "plt.xlabel(feature)\n",
    "plt.ylabel('Frequency')\n",
    "plt.legend()\n",
    "plt.show()\n",
    "\n",
    "# Plot the histogram after transformation\n",
    "plt.figure(figsize=(8, 6))\n",
    "plt.hist(X_train[feature], bins=30, color='green', alpha=0.5, label='After Transformation')\n",
    "plt.title(f'Histogram of {feature} After Transformation')\n",
    "plt.xlabel(feature)\n",
    "plt.ylabel('Frequency')\n",
    "plt.legend()\n",
    "plt.show()"
   ]
  },
  {
   "cell_type": "markdown",
   "metadata": {},
   "source": [
    "## Model Building\n",
    "- Build different models on the imbalanced dataset and see the result"
   ]
  },
  {
   "cell_type": "code",
   "execution_count": 15,
   "metadata": {},
   "outputs": [
    {
     "name": "stdout",
     "output_type": "stream",
     "text": [
      "Best hyperparameter C: 0.001\n",
      "Accuracy: 0.97881043502686\n",
      "Precision: 0.06915306915306915\n",
      "Recall: 0.9081632653061225\n",
      "F1 Score: 0.12851985559566786\n",
      "Area under the ROC curve (AUC-ROC): 0.943547727194423\n"
     ]
    }
   ],
   "source": [
    "#Logistic Regression \n",
    "\n",
    "from sklearn.linear_model import LogisticRegression\n",
    "from sklearn.model_selection import GridSearchCV\n",
    "from sklearn.model_selection import StratifiedKFold\n",
    "from sklearn import metrics\n",
    "from sklearn.preprocessing import StandardScaler\n",
    "\n",
    "# Feature Scaling\n",
    "scaler = StandardScaler()\n",
    "X_train_scaled = scaler.fit_transform(X_train)\n",
    "X_test_scaled = scaler.transform(X_test)\n",
    "\n",
    "# Logistic Regression Model\n",
    "logistic_model = LogisticRegression(class_weight='balanced', random_state=42, max_iter=1000)\n",
    "\n",
    "# Hyperparameter Grid\n",
    "param_grid = {'C': [0.001, 0.01, 0.1, 1, 10, 100, 1000]}\n",
    "\n",
    "# Stratified k-fold cross-validation\n",
    "stratified_cv = StratifiedKFold(n_splits=5, shuffle=True, random_state=42)\n",
    "\n",
    "# Grid Search with Cross-validation\n",
    "grid_search = GridSearchCV(logistic_model, param_grid, scoring='roc_auc', cv=stratified_cv, n_jobs=-1)\n",
    "grid_search.fit(X_train_scaled, y_train)\n",
    "\n",
    "# Best Hyperparameters\n",
    "best_C = grid_search.best_params_['C']\n",
    "print(f'Best hyperparameter C: {best_C}')\n",
    "\n",
    "# Fit Logistic Regression with the Best Hyperparameter\n",
    "final_logistic_model = LogisticRegression(C=best_C, class_weight='balanced', random_state=42, max_iter=1000)\n",
    "final_logistic_model.fit(X_train_scaled, y_train)\n",
    "\n",
    "# Predict on the Test Dataset\n",
    "y_pred_logistic = final_logistic_model.predict(X_test_scaled)\n",
    "\n",
    "# Print Evaluation Metrics\n",
    "print(f'Accuracy: {metrics.accuracy_score(y_test, y_pred_logistic)}')\n",
    "print(f'Precision: {metrics.precision_score(y_test, y_pred_logistic)}')\n",
    "print(f'Recall: {metrics.recall_score(y_test, y_pred_logistic)}')\n",
    "print(f'F1 Score: {metrics.f1_score(y_test, y_pred_logistic)}')\n",
    "print(f'Area under the ROC curve (AUC-ROC): {metrics.roc_auc_score(y_test, y_pred_logistic)}')\n"
   ]
  },
  {
   "cell_type": "markdown",
   "metadata": {},
   "source": [
    "#### perfom cross validation on the X_train & y_train to create:\n",
    "- X_train_cv\n",
    "- X_test_cv \n",
    "- y_train_cv\n",
    "- y_test_cv "
   ]
  },
  {
   "cell_type": "code",
   "execution_count": 16,
   "metadata": {},
   "outputs": [
    {
     "name": "stdout",
     "output_type": "stream",
     "text": [
      "Optimal hyperparameter C values: [0.001, 0.001, 0.001, 0.001, 0.001]\n",
      "Final chosen hyperparameter C: 0.001\n",
      "Accuracy: 0.97881043502686\n",
      "Precision: 0.06915306915306915\n",
      "Recall: 0.9081632653061225\n",
      "F1 Score: 0.12851985559566786\n",
      "Area under the ROC curve (AUC-ROC): 0.943547727194423\n"
     ]
    }
   ],
   "source": [
    "from sklearn.model_selection import cross_val_predict\n",
    "from sklearn.model_selection import StratifiedKFold\n",
    "from sklearn.preprocessing import StandardScaler\n",
    "\n",
    "# Create stratified k-fold cross-validation\n",
    "stratified_cv = StratifiedKFold(n_splits=5, shuffle=True, random_state=42)\n",
    "\n",
    "# Perform cross-validation\n",
    "X_train_cv = []\n",
    "X_test_cv = []\n",
    "y_train_cv = []\n",
    "y_test_cv = []\n",
    "\n",
    "for train_index, test_index in stratified_cv.split(X_train, y_train):\n",
    "    X_train_fold, X_test_fold = X_train.iloc[train_index], X_train.iloc[test_index]\n",
    "    y_train_fold, y_test_fold = y_train.iloc[train_index], y_train.iloc[test_index]\n",
    "    \n",
    "    X_train_cv.append(X_train_fold)\n",
    "    X_test_cv.append(X_test_fold)\n",
    "    y_train_cv.append(y_train_fold)\n",
    "    y_test_cv.append(y_test_fold)\n",
    "\n",
    "# Perform hyperparameter tuning using cross-validation\n",
    "num_C = [0.001, 0.01, 0.1, 1, 10, 100, 1000]\n",
    "\n",
    "best_C_values = []\n",
    "\n",
    "for i in range(5):  # Loop through the folds\n",
    "    logistic_model = LogisticRegression(class_weight='balanced', random_state=42, max_iter=3000)\n",
    "    \n",
    "    # Create hyperparameter grid\n",
    "    param_grid = {'C': num_C}\n",
    "    \n",
    "    # Create stratified k-fold cross-validation\n",
    "    stratified_cv = StratifiedKFold(n_splits=3, shuffle=True, random_state=42)\n",
    "    \n",
    "    # Perform grid search with cross-validation\n",
    "    grid_search = GridSearchCV(logistic_model, param_grid, scoring='roc_auc', cv=stratified_cv)\n",
    "    grid_search.fit(X_train_cv[i], y_train_cv[i])\n",
    "    \n",
    "    # Get the best hyperparameters\n",
    "    best_C = grid_search.best_params_['C']\n",
    "    best_C_values.append(best_C)\n",
    "\n",
    "# Print the optimum value of hyperparameters\n",
    "print(f'Optimal hyperparameter C values: {best_C_values}')\n",
    "\n",
    "# Choose the most common hyperparameter value\n",
    "optimal_C = max(set(best_C_values), key=best_C_values.count)\n",
    "print(f'Final chosen hyperparameter C: {optimal_C}')\n",
    "\n",
    "# Fit the logistic regression model with the final hyperparameter\n",
    "final_logistic_model = LogisticRegression(C=optimal_C, class_weight='balanced', random_state=42, max_iter=3000)\n",
    "\n",
    "# Standardize the data\n",
    "scaler = StandardScaler()\n",
    "X_train_scaled = scaler.fit_transform(X_train)\n",
    "X_test_scaled = scaler.transform(X_test)\n",
    "\n",
    "final_logistic_model.fit(X_train_scaled, y_train)\n",
    "\n",
    "# Predict on the test dataset\n",
    "y_pred_logistic = final_logistic_model.predict(X_test_scaled)\n",
    "\n",
    "# Print evaluation metrics\n",
    "print(f'Accuracy: {metrics.accuracy_score(y_test, y_pred_logistic)}')\n",
    "print(f'Precision: {metrics.precision_score(y_test, y_pred_logistic)}')\n",
    "print(f'Recall: {metrics.recall_score(y_test, y_pred_logistic)}')\n",
    "print(f'F1 Score: {metrics.f1_score(y_test, y_pred_logistic)}')\n",
    "print(f'Area under the ROC curve (AUC-ROC): {metrics.roc_auc_score(y_test, y_pred_logistic)}')"
   ]
  },
  {
   "cell_type": "markdown",
   "metadata": {},
   "source": [
    "### Similarly explore other algorithms by building models like:\n",
    "- KNN\n",
    "- SVM\n",
    "- Decision Tree\n",
    "- Random Forest\n",
    "- XGBoost"
   ]
  },
  {
   "cell_type": "markdown",
   "metadata": {},
   "source": [
    "#### Proceed with the model which shows the best result \n",
    "- Apply the best hyperparameter on the model\n",
    "- Predict on the test dataset"
   ]
  },
  {
   "cell_type": "code",
   "execution_count": 17,
   "metadata": {},
   "outputs": [
    {
     "name": "stdout",
     "output_type": "stream",
     "text": [
      "\n",
      "Evaluation metrics for KNN:\n",
      "\n",
      "Accuracy: 0.9993328885923949\n",
      "Precision: 0.96875\n",
      "Recall: 0.6326530612244898\n",
      "F1 Score: 0.7654320987654322\n",
      "Area under the ROC curve (AUC-ROC): 0.8163089447934492\n"
     ]
    }
   ],
   "source": [
    "from sklearn.neighbors import KNeighborsClassifier\n",
    "from sklearn.svm import SVC\n",
    "from sklearn.tree import DecisionTreeClassifier\n",
    "from sklearn.ensemble import RandomForestClassifier\n",
    "from xgboost import XGBClassifier\n",
    "\n",
    "# Initialize models with default parameters\n",
    "knn_model = KNeighborsClassifier()\n",
    "svm_model = SVC(class_weight='balanced', random_state=42)\n",
    "dt_model = DecisionTreeClassifier(class_weight='balanced', random_state=42)\n",
    "rf_model = RandomForestClassifier(class_weight='balanced', random_state=42)\n",
    "xgb_model = XGBClassifier(scale_pos_weight=(len(y_train)-sum(y_train))/sum(y_train), random_state=42)\n",
    "\n",
    "# List of models\n",
    "models = [knn_model, svm_model, dt_model, rf_model, xgb_model]\n",
    "model_names = ['KNN', 'SVM', 'Decision Tree', 'Random Forest', 'XGBoost']\n",
    "\n",
    "# Hyperparameters to tune for each model\n",
    "param_grids = [\n",
    "    {'n_neighbors': [3, 5, 7], 'weights': ['uniform', 'distance']},\n",
    "    {'C': [0.1, 1, 10], 'kernel': ['linear', 'rbf']},\n",
    "    {'max_depth': [5, 10, 15], 'min_samples_split': [2, 5, 10]},\n",
    "    {'n_estimators': [50, 100, 200], 'max_depth': [5, 10, 15], 'min_samples_split': [2, 5, 10]},\n",
    "    {'n_estimators': [50, 100, 200], 'learning_rate': [0.01, 0.1, 0.2]}\n",
    "]\n",
    "\n",
    "# Initialize best model and metrics\n",
    "best_model = None\n",
    "best_metric = 0.0  # Assuming a metric to be maximized\n",
    "\n",
    "# Loop through models\n",
    "for model, model_name, param_grid in zip(models, model_names, param_grids):\n",
    "    # Perform hyperparameter tuning using cross-validation\n",
    "    grid_search = GridSearchCV(model, param_grid, scoring='roc_auc', cv=stratified_cv)\n",
    "    grid_search.fit(X_train, y_train)\n",
    "    \n",
    "    # Get the best model and its hyperparameters\n",
    "    best_model_params = grid_search.best_params_\n",
    "    best_model_instance = grid_search.best_estimator_\n",
    "    \n",
    "    # Predict on the test dataset\n",
    "    y_pred = best_model_instance.predict(X_test)\n",
    "    \n",
    "    # Print evaluation metrics\n",
    "    accuracy = metrics.accuracy_score(y_test, y_pred)\n",
    "    precision = metrics.precision_score(y_test, y_pred)\n",
    "    recall = metrics.recall_score(y_test, y_pred)\n",
    "    f1_score = metrics.f1_score(y_test, y_pred)\n",
    "    roc_auc = metrics.roc_auc_score(y_test, y_pred)\n",
    "    \n",
    "    print(f'\\nEvaluation metrics for {model_name}:\\n')\n",
    "    print(f'Accuracy: {accuracy}')\n",
    "    print(f'Precision: {precision}')\n",
    "    print(f'Recall: {recall}')\n",
    "    print(f'F1 Score: {f1_score}')\n",
    "    print(f'Area under the ROC curve (AUC-ROC): {roc_auc}')\n",
    "    \n",
    "    # Update best model if the current model performs better\n",
    "    if roc_auc > best_metric:\n",
    "        best_metric = roc_auc\n",
    "        best_model = best_model_instance\n",
    "\n",
    "# Apply the best model with optimum hyperparameters\n",
    "clf = best_model\n",
    "clf.fit(X_train, y_train)\n",
    "\n",
    "# Predict on the test dataset\n",
    "y_pred_final = clf.predict(X_test)\n",
    "\n",
    "# Print evaluation metrics using the best model\n",
    "print(f'\\nFinal Evaluation metrics using the best model:\\n')\n",
    "print(f'Accuracy: {metrics.accuracy_score(y_test, y_pred_final)}')\n",
    "print(f'Precision: {metrics.precision_score(y_test, y_pred_final)}')\n",
    "print(f'Recall: {metrics.recall_score(y_test, y_pred_final)}')\n",
    "print(f'F1 Score: {metrics.f1_score(y_test, y_pred_final)}')\n",
    "print(f'Area under the ROC curve (AUC-ROC): {metrics.roc_auc_score(y_test, y_pred_final)}')\n"
   ]
  },
  {
   "cell_type": "markdown",
   "metadata": {},
   "source": [
    "### Print the important features of the best model to understand the dataset\n",
    "- This will not give much explanation on the already transformed dataset\n",
    "- But it will help us in understanding if the dataset is not PCA transformed"
   ]
  },
  {
   "cell_type": "code",
   "execution_count": null,
   "metadata": {},
   "outputs": [],
   "source": [
    "var_imp = []\n",
    "for i in clf.feature_importances_:\n",
    "    var_imp.append(i)\n",
    "print('Top var =', var_imp.index(np.sort(clf.feature_importances_)[-1])+1)\n",
    "print('2nd Top var =', var_imp.index(np.sort(clf.feature_importances_)[-2])+1)\n",
    "print('3rd Top var =', var_imp.index(np.sort(clf.feature_importances_)[-3])+1)\n",
    "\n",
    "# Variable on Index-16 and Index-13 seems to be the top 2 variables\n",
    "top_var_index = var_imp.index(np.sort(clf.feature_importances_)[-1])\n",
    "second_top_var_index = var_imp.index(np.sort(clf.feature_importances_)[-2])\n",
    "\n",
    "X_train_1 = X_train.to_numpy()[np.where(y_train==1.0)]\n",
    "X_train_0 = X_train.to_numpy()[np.where(y_train==0.0)]\n",
    "\n",
    "np.random.shuffle(X_train_0)\n",
    "\n",
    "import matplotlib.pyplot as plt\n",
    "%matplotlib inline\n",
    "plt.rcParams['figure.figsize'] = [20, 20]\n",
    "\n",
    "plt.scatter(X_train_1[:, top_var_index], X_train_1[:, second_top_var_index], label='Actual Class-1 Examples')\n",
    "plt.scatter(X_train_0[:X_train_1.shape[0], top_var_index], X_train_0[:X_train_1.shape[0], second_top_var_index],\n",
    "            label='Actual Class-0 Examples')\n",
    "plt.legend()"
   ]
  },
  {
   "cell_type": "markdown",
   "metadata": {},
   "source": [
    "## Model building with balancing Classes\n",
    "\n",
    "##### Perform class balancing with :\n",
    "- Random Oversampling\n",
    "- SMOTE\n",
    "- ADASYN"
   ]
  },
  {
   "cell_type": "markdown",
   "metadata": {},
   "source": [
    "## Model Building\n",
    "- Build different models on the balanced dataset and see the result"
   ]
  },
  {
   "cell_type": "code",
   "execution_count": null,
   "metadata": {},
   "outputs": [],
   "source": [
    "from imblearn.over_sampling import RandomOverSampler, SMOTE, ADASYN\n",
    "from sklearn.linear_model import LogisticRegression\n",
    "from sklearn.model_selection import GridSearchCV\n",
    "from sklearn.metrics import classification_report\n",
    "\n",
    "cv_num = 5\n",
    "\n",
    "# Define a function for model building and evaluation\n",
    "def build_and_evaluate(X_train_resampled, y_train_resampled, X_test, y_test, param_grid, model_name):\n",
    "    # Create a Logistic Regression model\n",
    "    lr_model = LogisticRegression()\n",
    "\n",
    "    # Use GridSearchCV for hyperparameter tuning\n",
    "    grid_search = GridSearchCV(lr_model, param_grid, cv=cv_num, scoring='f1', n_jobs=-1)\n",
    "    grid_search.fit(X_train_resampled, y_train_resampled)\n",
    "\n",
    "    # Print the best parameters\n",
    "    print(f\"Best parameters for {model_name}: {grid_search.best_params_}\")\n",
    "\n",
    "    # Make predictions on the test set\n",
    "    y_pred = grid_search.predict(X_test)\n",
    "\n",
    "    # Print classification report\n",
    "    print(f\"Classification Report for {model_name}:\\n{classification_report(y_test, y_pred)}\")\n",
    "\n",
    "# Random Oversampling\n",
    "ros = RandomOverSampler(sampling_strategy='auto', random_state=42)\n",
    "X_train_ros, y_train_ros = ros.fit_resample(X_train, y_train)\n",
    "\n",
    "# SMOTE\n",
    "smote = SMOTE(sampling_strategy='auto', random_state=42)\n",
    "X_train_smote, y_train_smote = smote.fit_resample(X_train, y_train)\n",
    "\n",
    "# ADASYN\n",
    "adasyn = ADASYN(sampling_strategy='auto', random_state=42)\n",
    "X_train_adasyn, y_train_adasyn = adasyn.fit_resample(X_train, y_train)\n",
    "\n",
    "# Define hyperparameter grid for Logistic Regression\n",
    "param_grid = {'C': [0.001, 0.01, 0.1, 1, 10, 100]}\n",
    "\n",
    "# Build and evaluate Logistic Regression models on balanced datasets\n",
    "build_and_evaluate(X_train_ros, y_train_ros, X_test, y_test, param_grid, \"Logistic Regression (Random Oversampling)\")\n",
    "build_and_evaluate(X_train_smote, y_train_smote, X_test, y_test, param_grid, \"Logistic Regression (SMOTE)\")\n",
    "build_and_evaluate(X_train_adasyn, y_train_adasyn, X_test, y_test, param_grid, \"Logistic Regression (ADASYN)\")\n"
   ]
  },
  {
   "cell_type": "markdown",
   "metadata": {},
   "source": [
    "#### perfom cross validation on the X_train & y_train to create:\n",
    "- X_train_cv\n",
    "- X_test_cv \n",
    "- y_train_cv\n",
    "- y_test_cv "
   ]
  },
  {
   "cell_type": "markdown",
   "metadata": {},
   "source": [
    "### Random Oversampling"
   ]
  },
  {
   "cell_type": "code",
   "execution_count": null,
   "metadata": {
    "scrolled": true
   },
   "outputs": [],
   "source": [
    "from sklearn.model_selection import StratifiedKFold, GridSearchCV\n",
    "from imblearn.over_sampling import RandomOverSampler\n",
    "from sklearn.linear_model import LogisticRegression\n",
    "from sklearn.metrics import make_scorer, f1_score\n",
    "\n",
    "# Define the cross-validation strategy\n",
    "cv = StratifiedKFold(n_splits=5, shuffle=True, random_state=42)\n",
    "\n",
    "# Define the Random Oversampler\n",
    "ros = RandomOverSampler(sampling_strategy='auto', random_state=42)\n",
    "\n",
    "# Perform cross-validation and balance classes with Random Oversampling\n",
    "X_train_cv_balanced, y_train_cv_balanced = ros.fit_resample(X_train_cv, y_train_cv)\n",
    "\n",
    "# Define the Logistic Regression model\n",
    "lr_model = LogisticRegression()\n",
    "\n",
    "# Define the hyperparameter grid\n",
    "param_grid = {'C': [0.001, 0.01, 0.1, 1, 10, 100]}\n",
    "\n",
    "# Define the evaluation metric (F1 score)\n",
    "f1_scorer = make_scorer(f1_score)\n",
    "\n",
    "# Use GridSearchCV for hyperparameter tuning\n",
    "grid_search = GridSearchCV(lr_model, param_grid, cv=cv, scoring=f1_scorer, n_jobs=-1)\n",
    "grid_search.fit(X_train_cv_balanced, y_train_cv_balanced)\n",
    "\n",
    "# Print the best parameters\n",
    "print(\"Best parameters:\", grid_search.best_params_)\n",
    "\n",
    "# Print the evaluation result by choosing the F1 score\n",
    "print(\"Best F1 score:\", grid_search.best_score_)\n",
    "\n"
   ]
  },
  {
   "cell_type": "markdown",
   "metadata": {},
   "source": [
    "### Similarly explore other algorithms on balanced dataset by building models like:\n",
    "- KNN\n",
    "- SVM\n",
    "- Decision Tree\n",
    "- Random Forest\n",
    "- XGBoost"
   ]
  },
  {
   "cell_type": "markdown",
   "metadata": {},
   "source": [
    "### Print the class distribution after applying SMOTE "
   ]
  },
  {
   "cell_type": "code",
   "execution_count": null,
   "metadata": {},
   "outputs": [],
   "source": [
    "from imblearn.over_sampling import SMOTE\n",
    "import warnings\n",
    "warnings.filterwarnings(\"ignore\")\n",
    "\n",
    "sm = over_sampling.SMOTE(random_state=0)\n",
    "X_train_smote, y_train_smote = sm.fit_resample(X_train, y_train)\n",
    "# Artificial minority samples and corresponding minority labels from SMOTE are appended\n",
    "# below X_train and y_train respectively\n",
    "# So to exclusively get the artificial minority samples from SMOTE, we do\n",
    "X_train_smote_1 = X_train_smote[X_train.shape[0]:]\n",
    "\n",
    "X_train_1 = X_train.to_numpy()[np.where(y_train==1.0)]\n",
    "X_train_0 = X_train.to_numpy()[np.where(y_train==0.0)]\n",
    "\n",
    "\n",
    "plt.rcParams['figure.figsize'] = [20, 20]\n",
    "fig = plt.figure()\n",
    "\n",
    "plt.subplot(3, 1, 1)\n",
    "plt.scatter(X_train_1[:, 0], X_train_1[:, 1], label='Actual Class-1 Examples')\n",
    "plt.legend()\n",
    "\n",
    "plt.subplot(3, 1, 2)\n",
    "plt.scatter(X_train_1[:, 0], X_train_1[:, 1], label='Actual Class-1 Examples')\n",
    "plt.scatter(X_train_smote_1[:X_train_1.shape[0], 0], X_train_smote_1[:X_train_1.shape[0], 1],\n",
    "            label='Artificial SMOTE Class-1 Examples')\n",
    "plt.legend()\n",
    "\n",
    "plt.subplot(3, 1, 3)\n",
    "plt.scatter(X_train_1[:, 0], X_train_1[:, 1], label='Actual Class-1 Examples')\n",
    "plt.scatter(X_train_0[:X_train_1.shape[0], 0], X_train_0[:X_train_1.shape[0], 1], label='Actual Class-0 Examples')\n",
    "plt.legend()"
   ]
  },
  {
   "cell_type": "code",
   "execution_count": null,
   "metadata": {},
   "outputs": [],
   "source": [
    "from sklearn.model_selection import StratifiedKFold, GridSearchCV\n",
    "from imblearn.over_sampling import SMOTE\n",
    "from sklearn.metrics import make_scorer, f1_score\n",
    "from sklearn.ensemble import RandomForestClassifier \n",
    "\n",
    "# Define the cross-validation strategy\n",
    "cv = StratifiedKFold(n_splits=5, shuffle=True, random_state=42)\n",
    "\n",
    "# Define the SMOTE\n",
    "smote = SMOTE(sampling_strategy='auto', random_state=42)\n",
    "\n",
    "# Perform cross-validation and balance classes with SMOTE\n",
    "X_train_cv_balanced_smote, y_train_cv_balanced_smote = smote.fit_resample(X_train_cv, y_train_cv)\n",
    "\n",
    "# Define the classifier\n",
    "rf_model = RandomForestClassifier()\n",
    "\n",
    "# Define the hyperparameter grid\n",
    "param_grid = {'n_estimators': [50, 100, 200],\n",
    "              'max_depth': [None, 10, 20]}\n",
    "\n",
    "# Define the evaluation metric (F1 score)\n",
    "f1_scorer = make_scorer(f1_score)\n",
    "\n",
    "# Use GridSearchCV for hyperparameter tuning\n",
    "grid_search_smote = GridSearchCV(rf_model, param_grid, cv=cv, scoring=f1_scorer, n_jobs=-1)\n",
    "grid_search_smote.fit(X_train_cv_balanced_smote, y_train_cv_balanced_smote)\n",
    "\n",
    "# Print the best parameters\n",
    "print(\"Best parameters:\", grid_search_smote.best_params_)\n",
    "\n",
    "# Print the evaluation result by choosing the F1 score\n",
    "print(\"Best F1 score:\", grid_search_smote.best_score_)\n",
    "\n"
   ]
  },
  {
   "cell_type": "markdown",
   "metadata": {},
   "source": [
    "##### Build models on other algorithms to see the better performing on SMOTE"
   ]
  },
  {
   "cell_type": "markdown",
   "metadata": {},
   "source": [
    "### Print the class distribution after applying ADASYN"
   ]
  },
  {
   "cell_type": "code",
   "execution_count": null,
   "metadata": {},
   "outputs": [],
   "source": [
    "import warnings\n",
    "warnings.filterwarnings(\"ignore\")\n",
    "\n",
    "from imblearn import over_sampling\n",
    "\n",
    "ada = over_sampling.ADASYN(random_state=0)\n",
    "X_train_adasyn, y_train_adasyn = ada.fit_resample(X_train, y_train)\n",
    "# Artificial minority samples and corresponding minority labels from ADASYN are appended\n",
    "# below X_train and y_train respectively\n",
    "# So to exclusively get the artificial minority samples from ADASYN, we do\n",
    "X_train_adasyn_1 = X_train_adasyn[X_train.shape[0]:]\n",
    "\n",
    "X_train_1 = X_train.to_numpy()[np.where(y_train==1.0)]\n",
    "X_train_0 = X_train.to_numpy()[np.where(y_train==0.0)]\n",
    "\n",
    "\n",
    "\n",
    "import matplotlib.pyplot as plt\n",
    "%matplotlib inline\n",
    "plt.rcParams['figure.figsize'] = [20, 20]\n",
    "fig = plt.figure()\n",
    "\n",
    "plt.subplot(3, 1, 1)\n",
    "plt.scatter(X_train_1[:, 0], X_train_1[:, 1], label='Actual Class-1 Examples')\n",
    "plt.legend()\n",
    "\n",
    "plt.subplot(3, 1, 2)\n",
    "plt.scatter(X_train_1[:, 0], X_train_1[:, 1], label='Actual Class-1 Examples')\n",
    "plt.scatter(X_train_adasyn_1[:X_train_1.shape[0], 0], X_train_adasyn_1[:X_train_1.shape[0], 1],\n",
    "            label='Artificial ADASYN Class-1 Examples')\n",
    "plt.legend()\n",
    "\n",
    "plt.subplot(3, 1, 3)\n",
    "plt.scatter(X_train_1[:, 0], X_train_1[:, 1], label='Actual Class-1 Examples')\n",
    "plt.scatter(X_train_0[:X_train_1.shape[0], 0], X_train_0[:X_train_1.shape[0], 1], label='Actual Class-0 Examples')\n",
    "plt.legend()"
   ]
  },
  {
   "cell_type": "code",
   "execution_count": null,
   "metadata": {},
   "outputs": [],
   "source": [
    "from sklearn.model_selection import StratifiedKFold, GridSearchCV\n",
    "from imblearn.over_sampling import ADASYN\n",
    "from sklearn.metrics import make_scorer, f1_score\n",
    "from sklearn.ensemble import RandomForestClassifier \n",
    "\n",
    "# Define the cross-validation strategy\n",
    "cv = StratifiedKFold(n_splits=5, shuffle=True, random_state=42)\n",
    "\n",
    "# Define the ADASYN\n",
    "adasyn = ADASYN(sampling_strategy='auto', random_state=42)\n",
    "\n",
    "# Perform cross-validation and balance classes with ADASYN\n",
    "X_train_cv_balanced_adasyn, y_train_cv_balanced_adasyn = adasyn.fit_resample(X_train_cv, y_train_cv)\n",
    "\n",
    "# Define the classifier (Random Forest as an example)\n",
    "rf_model = RandomForestClassifier()\n",
    "\n",
    "# Define the hyperparameter grid\n",
    "param_grid = {'n_estimators': [50, 100, 200],\n",
    "              'max_depth': [None, 10, 20]}\n",
    "\n",
    "# Define the evaluation metric (F1 score)\n",
    "f1_scorer = make_scorer(f1_score)\n",
    "\n",
    "# Use GridSearchCV for hyperparameter tuning\n",
    "grid_search_adasyn = GridSearchCV(rf_model, param_grid, cv=cv, scoring=f1_scorer, n_jobs=-1)\n",
    "grid_search_adasyn.fit(X_train_cv_balanced_adasyn, y_train_cv_balanced_adasyn)\n",
    "\n",
    "# Print the best parameters\n",
    "print(\"Best parameters:\", grid_search_adasyn.best_params_)\n",
    "\n",
    "# Print the evaluation result by choosing the F1 score\n",
    "print(\"Best F1 score:\", grid_search_adasyn.best_score_)\n",
    "\n"
   ]
  },
  {
   "cell_type": "markdown",
   "metadata": {},
   "source": [
    "##### Build models on other algorithms to see the better performing on ADASYN"
   ]
  },
  {
   "cell_type": "markdown",
   "metadata": {},
   "source": [
    "### Select the oversampling method which shows the best result on a model\n",
    "- Apply the best hyperparameter on the model\n",
    "- Predict on the test dataset"
   ]
  },
  {
   "cell_type": "code",
   "execution_count": null,
   "metadata": {},
   "outputs": [],
   "source": [
    "from sklearn.ensemble import RandomForestClassifier  # Import the classifier you want to use\n",
    "from sklearn.model_selection import StratifiedKFold, GridSearchCV\n",
    "from imblearn.over_sampling import RandomOverSampler, SMOTE, ADASYN\n",
    "from sklearn.metrics import make_scorer, f1_score\n",
    "\n",
    "# Define the cross-validation strategy\n",
    "cv = StratifiedKFold(n_splits=5, shuffle=True, random_state=42)\n",
    "\n",
    "# Define the classifiers\n",
    "classifiers = {\n",
    "    'Random Forest': RandomForestClassifier()\n",
    "    # Add other classifiers as needed\n",
    "}\n",
    "\n",
    "# Define the oversampling methods\n",
    "oversamplers = {\n",
    "    'Random Oversampling': RandomOverSampler(random_state=42),\n",
    "    'SMOTE': SMOTE(random_state=42),\n",
    "    'ADASYN': ADASYN(random_state=42)\n",
    "    # Add other oversampling methods as needed\n",
    "}\n",
    "\n",
    "# Define the hyperparameter grid\n",
    "param_grid = {\n",
    "    'Random Forest': {'n_estimators': [50, 100, 200], 'max_depth': [None, 10, 20]},\n",
    "    # Add hyperparameter grid for other classifiers as needed\n",
    "}\n",
    "\n",
    "# Define the evaluation metric (F1 score)\n",
    "f1_scorer = make_scorer(f1_score)\n",
    "\n",
    "# Loop through classifiers and oversamplers\n",
    "best_classifier = None\n",
    "best_oversampler = None\n",
    "best_score = 0\n",
    "\n",
    "for classifier_name, classifier in classifiers.items():\n",
    "    for oversampler_name, oversampler in oversamplers.items():\n",
    "        # Perform cross-validation and balance classes with oversampler\n",
    "        X_train_balanced, y_train_balanced = oversampler.fit_resample(X_train, y_train)\n",
    "        \n",
    "        # Use GridSearchCV for hyperparameter tuning\n",
    "        grid_search = GridSearchCV(classifier, param_grid[classifier_name], cv=cv, scoring=f1_scorer, n_jobs=-1)\n",
    "        grid_search.fit(X_train_balanced, y_train_balanced)\n",
    "        \n",
    "        # Print the best parameters\n",
    "        print(f\"Best parameters for {classifier_name} with {oversampler_name}:\", grid_search.best_params_)\n",
    "        \n",
    "        # Print the evaluation result by choosing the F1 score\n",
    "        print(f\"Best F1 score for {classifier_name} with {oversampler_name}:\", grid_search.best_score_)\n",
    "        \n",
    "        # Update the best classifier and oversampler if the score is higher\n",
    "        if grid_search.best_score_ > best_score:\n",
    "            best_score = grid_search.best_score_\n",
    "            best_classifier = grid_search.best_estimator_\n",
    "            best_oversampler = oversampler\n",
    "\n",
    "# Print the best oversampling method and classifier\n",
    "print(f\"Best Oversampler: {best_oversampler}\")\n",
    "print(f\"Best Classifier: {best_classifier}\")\n",
    "\n",
    "# Fit the best classifier on the balanced dataset\n",
    "best_classifier.fit(X_train_balanced, y_train_balanced)\n",
    "\n",
    "# Predict on the test dataset\n",
    "y_pred = best_classifier.predict(X_test)\n",
    "\n",
    "# Print the evaluation score on the X_test using the best evaluation metric (F1 score)\n",
    "test_score = f1_score(y_test, y_pred)\n",
    "print(f\"Evaluation Score on Test Dataset: {test_score}\")\n"
   ]
  },
  {
   "cell_type": "markdown",
   "metadata": {},
   "source": [
    "### Print the important features of the best model to understand the dataset"
   ]
  },
  {
   "cell_type": "code",
   "execution_count": null,
   "metadata": {},
   "outputs": [],
   "source": [
    "var_imp = []\n",
    "for i in clf.feature_importances_:\n",
    "    var_imp.append(i)\n",
    "print('Top var =', var_imp.index(np.sort(clf.feature_importances_)[-1])+1)\n",
    "print('2nd Top var =', var_imp.index(np.sort(clf.feature_importances_)[-2])+1)\n",
    "print('3rd Top var =', var_imp.index(np.sort(clf.feature_importances_)[-3])+1)\n",
    "\n",
    "# Variable on Index-13 and Index-9 seems to be the top 2 variables\n",
    "top_var_index = var_imp.index(np.sort(clf.feature_importances_)[-1])\n",
    "second_top_var_index = var_imp.index(np.sort(clf.feature_importances_)[-2])\n",
    "\n",
    "X_train_1 = X_train.to_numpy()[np.where(y_train==1.0)]\n",
    "X_train_0 = X_train.to_numpy()[np.where(y_train==0.0)]\n",
    "\n",
    "np.random.shuffle(X_train_0)\n",
    "\n",
    "import matplotlib.pyplot as plt\n",
    "%matplotlib inline\n",
    "plt.rcParams['figure.figsize'] = [20, 20]\n",
    "\n",
    "plt.scatter(X_train_1[:, top_var_index], X_train_1[:, second_top_var_index], label='Actual Class-1 Examples')\n",
    "plt.scatter(X_train_0[:X_train_1.shape[0], top_var_index], X_train_0[:X_train_1.shape[0], second_top_var_index],\n",
    "            label='Actual Class-0 Examples')\n",
    "plt.legend()"
   ]
  },
  {
   "cell_type": "code",
   "execution_count": null,
   "metadata": {},
   "outputs": [],
   "source": [
    "from sklearn import metrics\n",
    "\n",
    "# Print the FPR, TPR & select the best threshold from the roc curve\n",
    "train_auc = metrics.roc_auc_score(y_train_balanced, best_classifier.predict_proba(X_train_balanced)[:, 1])\n",
    "print('Train auc =', train_auc)\n",
    "\n",
    "fpr, tpr, thresholds = metrics.roc_curve(y_train_balanced, best_classifier.predict_proba(X_train_balanced)[:, 1])\n",
    "threshold = thresholds[np.argmax(tpr - fpr)]\n",
    "print('Best Threshold =', threshold)"
   ]
  },
  {
   "cell_type": "code",
   "execution_count": null,
   "metadata": {},
   "outputs": [],
   "source": [
    "# Plot the ROC curve\n",
    "plt.figure(figsize=(8, 8))\n",
    "plt.plot(fpr, tpr, label='ROC Curve (area = {:.2f})'.format(train_auc))\n",
    "plt.plot([0, 1], [0, 1], linestyle='--', color='gray', label='Random')\n",
    "plt.scatter(fpr[np.argmax(tpr - fpr)], tpr[np.argmax(tpr - fpr)], c='red', marker='o', label='Best Threshold')\n",
    "plt.title('Receiver Operating Characteristic (ROC) Curve')\n",
    "plt.xlabel('False Positive Rate (FPR)')\n",
    "plt.ylabel('True Positive Rate (TPR)')\n",
    "plt.legend()\n",
    "plt.show()"
   ]
  }
 ],
 "metadata": {
  "kernelspec": {
   "display_name": "Python 3 (ipykernel)",
   "language": "python",
   "name": "python3"
  },
  "language_info": {
   "codemirror_mode": {
    "name": "ipython",
    "version": 3
   },
   "file_extension": ".py",
   "mimetype": "text/x-python",
   "name": "python",
   "nbconvert_exporter": "python",
   "pygments_lexer": "ipython3",
   "version": "3.10.0"
  }
 },
 "nbformat": 4,
 "nbformat_minor": 4
}
